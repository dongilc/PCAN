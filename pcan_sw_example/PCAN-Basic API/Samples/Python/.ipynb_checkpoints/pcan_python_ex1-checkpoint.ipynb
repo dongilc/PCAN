{
 "cells": [
  {
   "cell_type": "code",
   "execution_count": 1,
   "id": "permanent-genetics",
   "metadata": {},
   "outputs": [],
   "source": [
    "from PCANBasic import *"
   ]
  },
  {
   "cell_type": "code",
   "execution_count": 2,
   "id": "owned-synthesis",
   "metadata": {},
   "outputs": [
    {
     "name": "stdout",
     "output_type": "stream",
     "text": [
      "PCAN-USB (Ch-1) was initialized\n"
     ]
    }
   ],
   "source": [
    "# The Plug & Play Channel (PCAN-USB) is initialized\n",
    "#\n",
    "objPCAN = PCANBasic()\n",
    "result = objPCAN.Initialize(PCAN_USBBUS1, PCAN_BAUD_1M)\n",
    "if result != PCAN_ERROR_OK:\n",
    "    # An error occurred, get a text describing the error and show it\n",
    "    #\n",
    "    result = objPCAN.GetErrorText(result)\n",
    "    print(result[1])\n",
    "else:\n",
    "    print(\"PCAN-USB (Ch-1) was initialized\")"
   ]
  },
  {
   "cell_type": "code",
   "execution_count": 4,
   "id": "simplified-section",
   "metadata": {},
   "outputs": [
    {
     "ename": "SyntaxError",
     "evalue": "EOL while scanning string literal (<ipython-input-4-07ec060f9ba9>, line 11)",
     "output_type": "error",
     "traceback": [
      "\u001b[1;36m  File \u001b[1;32m\"<ipython-input-4-07ec060f9ba9>\"\u001b[1;36m, line \u001b[1;32m11\u001b[0m\n\u001b[1;33m    print(\"result[2]\"\") # Possible processing function, ProcessMessage(msg,timestamp)\u001b[0m\n\u001b[1;37m                                                                                     ^\u001b[0m\n\u001b[1;31mSyntaxError\u001b[0m\u001b[1;31m:\u001b[0m EOL while scanning string literal\n"
     ]
    }
   ],
   "source": [
    "readResult = PCAN_ERROR_OK,\n",
    "while (readResult[0] & PCAN_ERROR_QRCVEMPTY) != PCAN_ERROR_QRCVEMPTY:\n",
    "    # Check the receive queue for new messages\n",
    "    #\n",
    "    readResult = objPCAN.Read(PCAN_USBBUS1)\n",
    "    if readResult[0] != PCAN_ERROR_QRCVEMPTY:\n",
    "        # Process the received message\n",
    "        #\n",
    "        print(\"A message was received\")\n",
    "        print(\"result[1]\")\n",
    "        print(\"result[2]\") # Possible processing function, ProcessMessage(msg,timestamp)\n",
    "    else:\n",
    "        # An error occurred, get a text describing the error and show it\n",
    "        #\n",
    "        result = objPCAN.GetErrorText(readResult[0])\n",
    "        print(result[1])\n",
    "        #HandleReadError(readResult[0]) # Possible errors handling function, HandleError(function_result)"
   ]
  },
  {
   "cell_type": "code",
   "execution_count": null,
   "id": "normal-delight",
   "metadata": {},
   "outputs": [],
   "source": [
    "# The USB Channel is released\n",
    "#\n",
    "result = objPCAN.Uninitialize(PCAN_USBBUS1)\n",
    "if result != PCAN_ERROR_OK:\n",
    "    # An error occurred, get a text describing the error and show it\n",
    "    #\n",
    "    result = objPCAN.GetErrorText(result)\n",
    "    print(result[1])\n",
    "else:\n",
    "    print(\"PCAN-USB (Ch-1) was released\")"
   ]
  }
 ],
 "metadata": {
  "kernelspec": {
   "display_name": "Python 3",
   "language": "python",
   "name": "python3"
  },
  "language_info": {
   "codemirror_mode": {
    "name": "ipython",
    "version": 3
   },
   "file_extension": ".py",
   "mimetype": "text/x-python",
   "name": "python",
   "nbconvert_exporter": "python",
   "pygments_lexer": "ipython3",
   "version": "3.8.3"
  }
 },
 "nbformat": 4,
 "nbformat_minor": 5
}
